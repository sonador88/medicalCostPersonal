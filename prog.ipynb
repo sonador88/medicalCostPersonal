{
 "cells": [
  {
   "cell_type": "markdown",
   "id": "a4ba12fa",
   "metadata": {},
   "source": [
    "# Описание задачи\n",
    "\n",
    "**ПРЕДСКАЗАНИЕ СТОИМОСТИ СТРАХОВКИ**\n",
    "\n",
    "\n",
    "В данной задаче требуется предсказать стоимость страховки для клиента. В датасете располагаются основные сведения о нем, такие как: возраст, пол, индекс массы тела, .... \n",
    "\n",
    "Датасет взят с платформы kaggle: https://www.kaggle.com/datasets/mirichoi0218/insurance\n",
    "\n",
    "Задача регрессионная\n",
    "\n",
    "Для решения задачи будет проведет подробный разведочный анализ данных, предобработка, выбор наилучшей модели, подбор параметров и прогноз."
   ]
  },
  {
   "cell_type": "markdown",
   "id": "4d5b662c",
   "metadata": {},
   "source": [
    "# Начало работы"
   ]
  },
  {
   "cell_type": "markdown",
   "id": "0d17830e",
   "metadata": {},
   "source": [
    "## Подключение библиотек"
   ]
  },
  {
   "cell_type": "code",
   "execution_count": 172,
   "id": "64749b90",
   "metadata": {},
   "outputs": [],
   "source": [
    "import numpy as np\n",
    "import pandas as pd\n",
    "import matplotlib.pyplot as plt\n",
    "import seaborn as sns\n",
    "from math import ceil\n",
    "\n",
    "from sklearn.model_selection import train_test_split, GridSearchCV\n",
    "\n",
    "from sklearn.metrics import mean_squared_error, r2_score\n",
    "\n",
    "from scipy import stats\n",
    "from sklearn.preprocessing import MinMaxScaler\n",
    "\n",
    "from sklearn.model_selection import train_test_split, GridSearchCV\n",
    "from sklearn.linear_model import LinearRegression, Ridge, Lasso, ElasticNet\n",
    "from sklearn.svm import SVR\n",
    "from sklearn.ensemble import RandomForestRegressor\n",
    "\n",
    "%matplotlib inline\n",
    "sns.set_style('whitegrid')"
   ]
  },
  {
   "cell_type": "markdown",
   "id": "366f3e09",
   "metadata": {},
   "source": [
    "## Функции и переменные"
   ]
  },
  {
   "cell_type": "code",
   "execution_count": 114,
   "id": "f869dea5",
   "metadata": {},
   "outputs": [],
   "source": [
    "RANDOM_STATE = 100\n",
    "SPLIT_TEST_SIZE = 0.2 # размер тестовой выборки\n",
    "NUM_SPLIT_FOR_GRID = 5 #на сколько частей будет разбиваться выборка при подборе параметров\n",
    "TRESHOLD_FOR_CORR = 0.1 #порог значения корреляции, ниже которого будем отбрасывать признаки\n",
    "TRESHOLD_FOR_HIGH_CORR = 0.6 #при этом пороге корреляции будем тщательнее исследовать на предмет выбросов\n",
    "TRESHOLD_FOR_HIGH_CORR_BETWEEN_FEATURE = 0.8 #если корреляция выше - удаляемм один из коррелируемых признаков\n",
    "\n",
    "COLOR_PLOT = 'deepskyblue' #цвет графиков\n",
    "\n",
    "\n",
    "def del_from_list(list_el, new_el):\n",
    "    \"\"\"\n",
    "    Функция удаления элементов из массива\n",
    "    \"\"\"\n",
    "    if np.isin(new_el, list_el).sum():\n",
    "        return np.setdiff1d(list_el, new_el)\n",
    "    else:\n",
    "        return list_el"
   ]
  },
  {
   "cell_type": "markdown",
   "id": "59a59e29",
   "metadata": {},
   "source": [
    "## Загрузка данных"
   ]
  },
  {
   "cell_type": "code",
   "execution_count": 115,
   "id": "52cdc651",
   "metadata": {},
   "outputs": [
    {
     "data": {
      "text/html": [
       "<div>\n",
       "<style scoped>\n",
       "    .dataframe tbody tr th:only-of-type {\n",
       "        vertical-align: middle;\n",
       "    }\n",
       "\n",
       "    .dataframe tbody tr th {\n",
       "        vertical-align: top;\n",
       "    }\n",
       "\n",
       "    .dataframe thead th {\n",
       "        text-align: right;\n",
       "    }\n",
       "</style>\n",
       "<table border=\"1\" class=\"dataframe\">\n",
       "  <thead>\n",
       "    <tr style=\"text-align: right;\">\n",
       "      <th></th>\n",
       "      <th>age</th>\n",
       "      <th>sex</th>\n",
       "      <th>bmi</th>\n",
       "      <th>children</th>\n",
       "      <th>smoker</th>\n",
       "      <th>region</th>\n",
       "      <th>charges</th>\n",
       "    </tr>\n",
       "  </thead>\n",
       "  <tbody>\n",
       "    <tr>\n",
       "      <th>0</th>\n",
       "      <td>19</td>\n",
       "      <td>female</td>\n",
       "      <td>27.900</td>\n",
       "      <td>0</td>\n",
       "      <td>yes</td>\n",
       "      <td>southwest</td>\n",
       "      <td>16884.92400</td>\n",
       "    </tr>\n",
       "    <tr>\n",
       "      <th>1</th>\n",
       "      <td>18</td>\n",
       "      <td>male</td>\n",
       "      <td>33.770</td>\n",
       "      <td>1</td>\n",
       "      <td>no</td>\n",
       "      <td>southeast</td>\n",
       "      <td>1725.55230</td>\n",
       "    </tr>\n",
       "    <tr>\n",
       "      <th>2</th>\n",
       "      <td>28</td>\n",
       "      <td>male</td>\n",
       "      <td>33.000</td>\n",
       "      <td>3</td>\n",
       "      <td>no</td>\n",
       "      <td>southeast</td>\n",
       "      <td>4449.46200</td>\n",
       "    </tr>\n",
       "    <tr>\n",
       "      <th>3</th>\n",
       "      <td>33</td>\n",
       "      <td>male</td>\n",
       "      <td>22.705</td>\n",
       "      <td>0</td>\n",
       "      <td>no</td>\n",
       "      <td>northwest</td>\n",
       "      <td>21984.47061</td>\n",
       "    </tr>\n",
       "    <tr>\n",
       "      <th>4</th>\n",
       "      <td>32</td>\n",
       "      <td>male</td>\n",
       "      <td>28.880</td>\n",
       "      <td>0</td>\n",
       "      <td>no</td>\n",
       "      <td>northwest</td>\n",
       "      <td>3866.85520</td>\n",
       "    </tr>\n",
       "  </tbody>\n",
       "</table>\n",
       "</div>"
      ],
      "text/plain": [
       "   age     sex     bmi  children smoker     region      charges\n",
       "0   19  female  27.900         0    yes  southwest  16884.92400\n",
       "1   18    male  33.770         1     no  southeast   1725.55230\n",
       "2   28    male  33.000         3     no  southeast   4449.46200\n",
       "3   33    male  22.705         0     no  northwest  21984.47061\n",
       "4   32    male  28.880         0     no  northwest   3866.85520"
      ]
     },
     "execution_count": 115,
     "metadata": {},
     "output_type": "execute_result"
    }
   ],
   "source": [
    "data = pd.read_csv('data/insurance.csv')\n",
    "data.head()"
   ]
  },
  {
   "cell_type": "markdown",
   "id": "5fecd897",
   "metadata": {},
   "source": [
    "# Основная информация о данных"
   ]
  },
  {
   "cell_type": "code",
   "execution_count": 116,
   "id": "7d7a8231",
   "metadata": {},
   "outputs": [
    {
     "name": "stdout",
     "output_type": "stream",
     "text": [
      "(1338, 7)\n"
     ]
    }
   ],
   "source": [
    "print(data.shape)"
   ]
  },
  {
   "cell_type": "code",
   "execution_count": 117,
   "id": "dabc2f49",
   "metadata": {},
   "outputs": [
    {
     "name": "stdout",
     "output_type": "stream",
     "text": [
      "<class 'pandas.core.frame.DataFrame'>\n",
      "RangeIndex: 1338 entries, 0 to 1337\n",
      "Data columns (total 7 columns):\n",
      " #   Column    Non-Null Count  Dtype  \n",
      "---  ------    --------------  -----  \n",
      " 0   age       1338 non-null   int64  \n",
      " 1   sex       1338 non-null   object \n",
      " 2   bmi       1338 non-null   float64\n",
      " 3   children  1338 non-null   int64  \n",
      " 4   smoker    1338 non-null   object \n",
      " 5   region    1338 non-null   object \n",
      " 6   charges   1338 non-null   float64\n",
      "dtypes: float64(2), int64(2), object(3)\n",
      "memory usage: 73.3+ KB\n"
     ]
    }
   ],
   "source": [
    "data.info()"
   ]
  },
  {
   "cell_type": "markdown",
   "id": "acaed415",
   "metadata": {},
   "source": [
    "у нас идеальные данные с точки зрения предобработки: пропущенных значений нет, все типы соответствуют своим значениям. Но нужно будет изучить их распределения, все имеющиеся значения (для категориальных), выбросы. Но прежде изучим целевую переменную - charges"
   ]
  },
  {
   "cell_type": "markdown",
   "id": "a33bf0b4",
   "metadata": {},
   "source": [
    "# Анализ целевой переменной"
   ]
  },
  {
   "cell_type": "code",
   "execution_count": 118,
   "id": "ce622033",
   "metadata": {},
   "outputs": [
    {
     "data": {
      "text/plain": [
       "count     1338.000000\n",
       "mean     13270.422265\n",
       "std      12110.011237\n",
       "min       1121.873900\n",
       "25%       4740.287150\n",
       "50%       9382.033000\n",
       "75%      16639.912515\n",
       "max      63770.428010\n",
       "Name: charges, dtype: float64"
      ]
     },
     "execution_count": 118,
     "metadata": {},
     "output_type": "execute_result"
    }
   ],
   "source": [
    "data.charges.describe()"
   ]
  },
  {
   "cell_type": "markdown",
   "id": "342f7986",
   "metadata": {},
   "source": [
    "Видим очень большое смещение вправо (большая роазница между максимумом и 3ьим квантилем), распределение не похоже на нормальное, плюс возможны сильные выбросы справа. поверим это на графиках"
   ]
  },
  {
   "cell_type": "code",
   "execution_count": 119,
   "id": "c3329d46",
   "metadata": {},
   "outputs": [
    {
     "data": {
      "text/plain": [
       "<AxesSubplot:xlabel='charges'>"
      ]
     },
     "execution_count": 119,
     "metadata": {},
     "output_type": "execute_result"
    },
    {
     "data": {
      "image/png": "[encoded data removed]",
      "text/plain": [
       "<Figure size 1080x360 with 2 Axes>"
      ]
     },
     "metadata": {},
     "output_type": "display_data"
    }
   ],
   "source": [
    "fig, axis = plt.subplots(ncols=2, figsize=(15,5))\n",
    "sns.histplot(data=data, x='charges', ax=axis[0], color=COLOR_PLOT, kde=True)\n",
    "sns.boxplot(data=data, x='charges', ax=axis[1], color=COLOR_PLOT)"
   ]
  },
  {
   "cell_type": "markdown",
   "id": "3e9d4438",
   "metadata": {},
   "source": [
    "графики еще раз убедили нас в том, что распределение далеко от нормального, но оно похоже на логонормальное, прологарифмируем целевую переменную и посмотрим на новые графики:"
   ]
  },
  {
   "cell_type": "code",
   "execution_count": 120,
   "id": "d087df62",
   "metadata": {},
   "outputs": [],
   "source": [
    "data['chargesLog'] = np.log(data.charges)"
   ]
  },
  {
   "cell_type": "code",
   "execution_count": 121,
   "id": "f1a79751",
   "metadata": {},
   "outputs": [
    {
     "data": {
      "text/plain": [
       "<AxesSubplot:xlabel='chargesLog'>"
      ]
     },
     "execution_count": 121,
     "metadata": {},
     "output_type": "execute_result"
    },
    {
     "data": {
      "image/png": "[encoded data removed]",
      "text/plain": [
       "<Figure size 1080x360 with 2 Axes>"
      ]
     },
     "metadata": {},
     "output_type": "display_data"
    }
   ],
   "source": [
    "fig, axis = plt.subplots(ncols=2, figsize=(15,5))\n",
    "sns.histplot(data=data, x='chargesLog', ax=axis[0], color=COLOR_PLOT, kde=True)\n",
    "sns.boxplot(data=data, x='chargesLog', ax=axis[1], color=COLOR_PLOT)"
   ]
  },
  {
   "cell_type": "markdown",
   "id": "e8c89f43",
   "metadata": {},
   "source": [
    "Распределение стало более похоже на нормальное + ушли выбросы. япроедем тест Шапиро на нормальность:"
   ]
  },
  {
   "cell_type": "code",
   "execution_count": 122,
   "id": "36796bbf",
   "metadata": {},
   "outputs": [
    {
     "name": "stdout",
     "output_type": "stream",
     "text": [
      "ShapiroResult(statistic=0.9831657409667969, pvalue=2.2936005525386882e-11)\n"
     ]
    }
   ],
   "source": [
    "print(stats.shapiro(data.chargesLog))"
   ]
  },
  {
   "cell_type": "markdown",
   "id": "e3f0f3c4",
   "metadata": {},
   "source": [
    "Распределение все еще не нормальное, хотя теперь видна центральная тенденция, возможно вносит вклад ярко выраженная вторая мода, но там довольно много наблюдений, мы не можем их отсечь как выбросы, поэтому будем пробовать работать с такой переменной "
   ]
  },
  {
   "cell_type": "markdown",
   "id": "82193b49",
   "metadata": {},
   "source": [
    "# Типы данных"
   ]
  },
  {
   "cell_type": "code",
   "execution_count": 123,
   "id": "e1af3bb1",
   "metadata": {},
   "outputs": [
    {
     "data": {
      "text/plain": [
       "object     3\n",
       "float64    3\n",
       "int64      2\n",
       "dtype: int64"
      ]
     },
     "execution_count": 123,
     "metadata": {},
     "output_type": "execute_result"
    }
   ],
   "source": [
    "data.dtypes.value_counts()"
   ]
  },
  {
   "cell_type": "markdown",
   "id": "a66d973d",
   "metadata": {},
   "source": [
    "## Категориальные признаки"
   ]
  },
  {
   "cell_type": "code",
   "execution_count": 124,
   "id": "1a88cb73",
   "metadata": {},
   "outputs": [
    {
     "data": {
      "text/html": [
       "<div>\n",
       "<style scoped>\n",
       "    .dataframe tbody tr th:only-of-type {\n",
       "        vertical-align: middle;\n",
       "    }\n",
       "\n",
       "    .dataframe tbody tr th {\n",
       "        vertical-align: top;\n",
       "    }\n",
       "\n",
       "    .dataframe thead th {\n",
       "        text-align: right;\n",
       "    }\n",
       "</style>\n",
       "<table border=\"1\" class=\"dataframe\">\n",
       "  <thead>\n",
       "    <tr style=\"text-align: right;\">\n",
       "      <th></th>\n",
       "      <th>sex</th>\n",
       "      <th>smoker</th>\n",
       "      <th>region</th>\n",
       "    </tr>\n",
       "  </thead>\n",
       "  <tbody>\n",
       "    <tr>\n",
       "      <th>0</th>\n",
       "      <td>female</td>\n",
       "      <td>yes</td>\n",
       "      <td>southwest</td>\n",
       "    </tr>\n",
       "    <tr>\n",
       "      <th>1</th>\n",
       "      <td>male</td>\n",
       "      <td>no</td>\n",
       "      <td>southeast</td>\n",
       "    </tr>\n",
       "    <tr>\n",
       "      <th>2</th>\n",
       "      <td>male</td>\n",
       "      <td>no</td>\n",
       "      <td>southeast</td>\n",
       "    </tr>\n",
       "    <tr>\n",
       "      <th>3</th>\n",
       "      <td>male</td>\n",
       "      <td>no</td>\n",
       "      <td>northwest</td>\n",
       "    </tr>\n",
       "    <tr>\n",
       "      <th>4</th>\n",
       "      <td>male</td>\n",
       "      <td>no</td>\n",
       "      <td>northwest</td>\n",
       "    </tr>\n",
       "  </tbody>\n",
       "</table>\n",
       "</div>"
      ],
      "text/plain": [
       "      sex smoker     region\n",
       "0  female    yes  southwest\n",
       "1    male     no  southeast\n",
       "2    male     no  southeast\n",
       "3    male     no  northwest\n",
       "4    male     no  northwest"
      ]
     },
     "execution_count": 124,
     "metadata": {},
     "output_type": "execute_result"
    }
   ],
   "source": [
    "data_non_numeric = data.select_dtypes(exclude=[np.number])\n",
    "data_non_numeric.head()"
   ]
  },
  {
   "cell_type": "code",
   "execution_count": 125,
   "id": "bbf8f32c",
   "metadata": {},
   "outputs": [
    {
     "data": {
      "text/plain": [
       "array(['sex', 'smoker', 'region'], dtype=object)"
      ]
     },
     "execution_count": 125,
     "metadata": {},
     "output_type": "execute_result"
    }
   ],
   "source": [
    "col_non_numeric = data_non_numeric.columns.values\n",
    "col_non_numeric"
   ]
  },
  {
   "cell_type": "markdown",
   "id": "d4b9af7b",
   "metadata": {},
   "source": [
    "Мы отобрали все не числовые признаки, нужно проверить их уникальные значения - нет ли ошибок в значениях"
   ]
  },
  {
   "cell_type": "code",
   "execution_count": 126,
   "id": "d0d4882d",
   "metadata": {},
   "outputs": [
    {
     "name": "stdout",
     "output_type": "stream",
     "text": [
      "sex : ['female' 'male']\n",
      "smoker : ['yes' 'no']\n",
      "region : ['southwest' 'southeast' 'northwest' 'northeast']\n"
     ]
    }
   ],
   "source": [
    "for col in col_non_numeric:\n",
    "    print(col, ':', data[col].unique())"
   ]
  },
  {
   "cell_type": "markdown",
   "id": "fd8fccd8",
   "metadata": {},
   "source": [
    "Имеем чистые данные среди категориальных признаков, ошибочных значений среди них нет"
   ]
  },
  {
   "cell_type": "markdown",
   "id": "45b3b73a",
   "metadata": {},
   "source": [
    "## Числовые признаки"
   ]
  },
  {
   "cell_type": "code",
   "execution_count": 127,
   "id": "dbd69af4",
   "metadata": {},
   "outputs": [
    {
     "data": {
      "text/html": [
       "<div>\n",
       "<style scoped>\n",
       "    .dataframe tbody tr th:only-of-type {\n",
       "        vertical-align: middle;\n",
       "    }\n",
       "\n",
       "    .dataframe tbody tr th {\n",
       "        vertical-align: top;\n",
       "    }\n",
       "\n",
       "    .dataframe thead th {\n",
       "        text-align: right;\n",
       "    }\n",
       "</style>\n",
       "<table border=\"1\" class=\"dataframe\">\n",
       "  <thead>\n",
       "    <tr style=\"text-align: right;\">\n",
       "      <th></th>\n",
       "      <th>age</th>\n",
       "      <th>bmi</th>\n",
       "      <th>children</th>\n",
       "      <th>charges</th>\n",
       "      <th>chargesLog</th>\n",
       "    </tr>\n",
       "  </thead>\n",
       "  <tbody>\n",
       "    <tr>\n",
       "      <th>0</th>\n",
       "      <td>19</td>\n",
       "      <td>27.900</td>\n",
       "      <td>0</td>\n",
       "      <td>16884.92400</td>\n",
       "      <td>9.734176</td>\n",
       "    </tr>\n",
       "    <tr>\n",
       "      <th>1</th>\n",
       "      <td>18</td>\n",
       "      <td>33.770</td>\n",
       "      <td>1</td>\n",
       "      <td>1725.55230</td>\n",
       "      <td>7.453302</td>\n",
       "    </tr>\n",
       "    <tr>\n",
       "      <th>2</th>\n",
       "      <td>28</td>\n",
       "      <td>33.000</td>\n",
       "      <td>3</td>\n",
       "      <td>4449.46200</td>\n",
       "      <td>8.400538</td>\n",
       "    </tr>\n",
       "    <tr>\n",
       "      <th>3</th>\n",
       "      <td>33</td>\n",
       "      <td>22.705</td>\n",
       "      <td>0</td>\n",
       "      <td>21984.47061</td>\n",
       "      <td>9.998092</td>\n",
       "    </tr>\n",
       "    <tr>\n",
       "      <th>4</th>\n",
       "      <td>32</td>\n",
       "      <td>28.880</td>\n",
       "      <td>0</td>\n",
       "      <td>3866.85520</td>\n",
       "      <td>8.260197</td>\n",
       "    </tr>\n",
       "  </tbody>\n",
       "</table>\n",
       "</div>"
      ],
      "text/plain": [
       "   age     bmi  children      charges  chargesLog\n",
       "0   19  27.900         0  16884.92400    9.734176\n",
       "1   18  33.770         1   1725.55230    7.453302\n",
       "2   28  33.000         3   4449.46200    8.400538\n",
       "3   33  22.705         0  21984.47061    9.998092\n",
       "4   32  28.880         0   3866.85520    8.260197"
      ]
     },
     "execution_count": 127,
     "metadata": {},
     "output_type": "execute_result"
    }
   ],
   "source": [
    "data_numeric = data.select_dtypes(include=[np.number])\n",
    "data_numeric.head()"
   ]
  },
  {
   "cell_type": "code",
   "execution_count": 128,
   "id": "d70c73ce",
   "metadata": {},
   "outputs": [
    {
     "data": {
      "text/plain": [
       "['age', 'bmi', 'children']"
      ]
     },
     "execution_count": 128,
     "metadata": {},
     "output_type": "execute_result"
    }
   ],
   "source": [
    "col_numeric = [col for col in data_numeric.columns.values if col not in ['charges', 'chargesLog']]\n",
    "col_numeric"
   ]
  },
  {
   "cell_type": "markdown",
   "id": "ee4c8bf4",
   "metadata": {},
   "source": [
    "Посмотрим на описательные статистики"
   ]
  },
  {
   "cell_type": "code",
   "execution_count": 129,
   "id": "2d590fb0",
   "metadata": {},
   "outputs": [
    {
     "data": {
      "text/html": [
       "<div>\n",
       "<style scoped>\n",
       "    .dataframe tbody tr th:only-of-type {\n",
       "        vertical-align: middle;\n",
       "    }\n",
       "\n",
       "    .dataframe tbody tr th {\n",
       "        vertical-align: top;\n",
       "    }\n",
       "\n",
       "    .dataframe thead th {\n",
       "        text-align: right;\n",
       "    }\n",
       "</style>\n",
       "<table border=\"1\" class=\"dataframe\">\n",
       "  <thead>\n",
       "    <tr style=\"text-align: right;\">\n",
       "      <th></th>\n",
       "      <th>age</th>\n",
       "      <th>bmi</th>\n",
       "      <th>children</th>\n",
       "      <th>charges</th>\n",
       "      <th>chargesLog</th>\n",
       "    </tr>\n",
       "  </thead>\n",
       "  <tbody>\n",
       "    <tr>\n",
       "      <th>count</th>\n",
       "      <td>1338.000000</td>\n",
       "      <td>1338.000000</td>\n",
       "      <td>1338.000000</td>\n",
       "      <td>1338.000000</td>\n",
       "      <td>1338.000000</td>\n",
       "    </tr>\n",
       "    <tr>\n",
       "      <th>mean</th>\n",
       "      <td>39.207025</td>\n",
       "      <td>30.663397</td>\n",
       "      <td>1.094918</td>\n",
       "      <td>13270.422265</td>\n",
       "      <td>9.098659</td>\n",
       "    </tr>\n",
       "    <tr>\n",
       "      <th>std</th>\n",
       "      <td>14.049960</td>\n",
       "      <td>6.098187</td>\n",
       "      <td>1.205493</td>\n",
       "      <td>12110.011237</td>\n",
       "      <td>0.919527</td>\n",
       "    </tr>\n",
       "    <tr>\n",
       "      <th>min</th>\n",
       "      <td>18.000000</td>\n",
       "      <td>15.960000</td>\n",
       "      <td>0.000000</td>\n",
       "      <td>1121.873900</td>\n",
       "      <td>7.022756</td>\n",
       "    </tr>\n",
       "    <tr>\n",
       "      <th>25%</th>\n",
       "      <td>27.000000</td>\n",
       "      <td>26.296250</td>\n",
       "      <td>0.000000</td>\n",
       "      <td>4740.287150</td>\n",
       "      <td>8.463853</td>\n",
       "    </tr>\n",
       "    <tr>\n",
       "      <th>50%</th>\n",
       "      <td>39.000000</td>\n",
       "      <td>30.400000</td>\n",
       "      <td>1.000000</td>\n",
       "      <td>9382.033000</td>\n",
       "      <td>9.146552</td>\n",
       "    </tr>\n",
       "    <tr>\n",
       "      <th>75%</th>\n",
       "      <td>51.000000</td>\n",
       "      <td>34.693750</td>\n",
       "      <td>2.000000</td>\n",
       "      <td>16639.912515</td>\n",
       "      <td>9.719558</td>\n",
       "    </tr>\n",
       "    <tr>\n",
       "      <th>max</th>\n",
       "      <td>64.000000</td>\n",
       "      <td>53.130000</td>\n",
       "      <td>5.000000</td>\n",
       "      <td>63770.428010</td>\n",
       "      <td>11.063045</td>\n",
       "    </tr>\n",
       "  </tbody>\n",
       "</table>\n",
       "</div>"
      ],
      "text/plain": [
       "               age          bmi     children       charges   chargesLog\n",
       "count  1338.000000  1338.000000  1338.000000   1338.000000  1338.000000\n",
       "mean     39.207025    30.663397     1.094918  13270.422265     9.098659\n",
       "std      14.049960     6.098187     1.205493  12110.011237     0.919527\n",
       "min      18.000000    15.960000     0.000000   1121.873900     7.022756\n",
       "25%      27.000000    26.296250     0.000000   4740.287150     8.463853\n",
       "50%      39.000000    30.400000     1.000000   9382.033000     9.146552\n",
       "75%      51.000000    34.693750     2.000000  16639.912515     9.719558\n",
       "max      64.000000    53.130000     5.000000  63770.428010    11.063045"
      ]
     },
     "execution_count": 129,
     "metadata": {},
     "output_type": "execute_result"
    }
   ],
   "source": [
    "data.describe()"
   ]
  },
  {
   "cell_type": "markdown",
   "id": "2fce7b07",
   "metadata": {},
   "source": [
    "Анализ показал, что со значениями числовых  принаков так же все нормально, ошибочные значения отсутствуют "
   ]
  },
  {
   "cell_type": "markdown",
   "id": "87d238d0",
   "metadata": {},
   "source": [
    "# Анализ категориальных признаков"
   ]
  },
  {
   "cell_type": "markdown",
   "id": "1107118a",
   "metadata": {},
   "source": [
    "## Распределение"
   ]
  },
  {
   "cell_type": "code",
   "execution_count": 130,
   "id": "b1668d9a",
   "metadata": {},
   "outputs": [
    {
     "data": {
      "image/png": "[encoded data removed]",
      "text/plain": [
       "<Figure size 1080x360 with 3 Axes>"
      ]
     },
     "metadata": {},
     "output_type": "display_data"
    }
   ],
   "source": [
    "num_rows = ceil(len(col_non_numeric)/3)\n",
    "fig, axes = plt.subplots(num_rows, 3, figsize=(15,5))\n",
    "\n",
    "for y, col in enumerate(col_non_numeric):    \n",
    "    if num_rows > 1:\n",
    "        i, j = divmod(y, 3)\n",
    "        ax=axes[i,j]\n",
    "    else:\n",
    "        ax = axes[y]\n",
    "    sns.countplot(data=data, x=col, alpha=0.7, ax=ax) \n",
    "    "
   ]
  },
  {
   "cell_type": "markdown",
   "id": "42f03f57",
   "metadata": {},
   "source": [
    "По графикам можно сделать вывод, что значения признаков пола и региона примерно распределены равномерно в нашем датасете, а вот число некурящих предобладает над курящими, но, тем не менее, мы не имеем признаков, к примеру, сосредоточенных только возле одного значения, что, несомненно, хорошо."
   ]
  },
  {
   "cell_type": "markdown",
   "id": "ac28608a",
   "metadata": {},
   "source": [
    "## Влияние на целевую переменную"
   ]
  },
  {
   "cell_type": "code",
   "execution_count": 131,
   "id": "2176dd6e",
   "metadata": {},
   "outputs": [
    {
     "data": {
      "image/png": "[encoded data removed]",
      "text/plain": [
       "<Figure size 1080x360 with 3 Axes>"
      ]
     },
     "metadata": {},
     "output_type": "display_data"
    }
   ],
   "source": [
    "fig, axes = plt.subplots(num_rows, 3, figsize=(15,5))\n",
    "for y, col in enumerate(col_non_numeric):\n",
    "    if num_rows > 1:\n",
    "        i, j = divmod(y, 3)\n",
    "        ax=axes[i,j]\n",
    "    else:\n",
    "        ax = axes[y]\n",
    "    sns.boxplot(data=data, x=col, y='chargesLog', ax=ax)"
   ]
  },
  {
   "cell_type": "markdown",
   "id": "17e4bdfd",
   "metadata": {},
   "source": [
    "По графикам отчетливо видно, что признаки sex и region не несут существенного вклада в значение целевой переменной, значение которой примерно на одном уровне для разных значений этих признаков, поэтому их можно исключить из дальнейшего анализа. Так же можно заметить, что у курильщиков медианная стоимость страховки смещена вверх, т.е. стоимость страховки для них распределена логарифмически "
   ]
  },
  {
   "cell_type": "code",
   "execution_count": 132,
   "id": "66bc362d",
   "metadata": {},
   "outputs": [],
   "source": [
    "ColForDel = ['sex', 'region']\n",
    "data.drop(columns=ColForDel, axis=1, inplace=True)\n",
    "#и удалить из массива с категориальными столбцами\n",
    "col_non_numeric = del_from_list(col_non_numeric, ColForDel)"
   ]
  },
  {
   "cell_type": "code",
   "execution_count": 133,
   "id": "7c86c340",
   "metadata": {},
   "outputs": [
    {
     "data": {
      "text/plain": [
       "array(['smoker'], dtype=object)"
      ]
     },
     "execution_count": 133,
     "metadata": {},
     "output_type": "execute_result"
    }
   ],
   "source": [
    "col_non_numeric"
   ]
  },
  {
   "cell_type": "markdown",
   "id": "2889b1e9",
   "metadata": {},
   "source": [
    "Единственный категориальный признак в нашей модели - курение"
   ]
  },
  {
   "cell_type": "markdown",
   "id": "75b2fa24",
   "metadata": {},
   "source": [
    "# Анализ числовых признаков"
   ]
  },
  {
   "cell_type": "markdown",
   "id": "ee3ac218",
   "metadata": {},
   "source": [
    "## Распределение"
   ]
  },
  {
   "cell_type": "code",
   "execution_count": 134,
   "id": "51aed396",
   "metadata": {},
   "outputs": [
    {
     "data": {
      "image/png": "[encoded data removed]",
      "text/plain": [
       "<Figure size 1080x360 with 3 Axes>"
      ]
     },
     "metadata": {},
     "output_type": "display_data"
    }
   ],
   "source": [
    "fig, axes = plt.subplots(ncols=3, figsize=(15,5))\n",
    "for i, col in enumerate(col_numeric):\n",
    "    sns.histplot(data=data, x=col, color=COLOR_PLOT, ax=axes[i], kde=True)\n",
    "    "
   ]
  },
  {
   "cell_type": "markdown",
   "id": "4065c401",
   "metadata": {},
   "source": [
    "Признак bmi имеет распределение, похожее на нормальное, children - экспоненциальное, а признак age близок к равномерному, если исключить большое количесвто людей около 20 лет"
   ]
  },
  {
   "cell_type": "markdown",
   "id": "c030c7ec",
   "metadata": {},
   "source": [
    "## Влияние на целевую переменную"
   ]
  },
  {
   "cell_type": "code",
   "execution_count": 135,
   "id": "e810761f",
   "metadata": {},
   "outputs": [
    {
     "data": {
      "image/png": "[encoded data removed]",
      "text/plain": [
       "<Figure size 1080x360 with 3 Axes>"
      ]
     },
     "metadata": {},
     "output_type": "display_data"
    }
   ],
   "source": [
    "fig, axes = plt.subplots(ncols=3, figsize=(15,5))\n",
    "for i, col in enumerate(col_numeric):\n",
    "    sns.regplot(data=data, x=col, y='chargesLog', scatter_kws={ \"color\": COLOR_PLOT}, \\\n",
    "                line_kws={\"color\": \"black\"}, ax=axes[i])"
   ]
  },
  {
   "cell_type": "markdown",
   "id": "bfa55e90",
   "metadata": {},
   "source": [
    "По графикам складывается впечатление, что корреляция довольно слабая, проведем корреляционный анализ"
   ]
  },
  {
   "cell_type": "markdown",
   "id": "0b8ff174",
   "metadata": {},
   "source": [
    "## Кореляционный анализ"
   ]
  },
  {
   "cell_type": "code",
   "execution_count": 136,
   "id": "448f6877",
   "metadata": {},
   "outputs": [
    {
     "data": {
      "text/plain": [
       "<AxesSubplot:>"
      ]
     },
     "execution_count": 136,
     "metadata": {},
     "output_type": "execute_result"
    },
    {
     "data": {
      "image/png": "[encoded data removed]",
      "text/plain": [
       "<Figure size 432x288 with 2 Axes>"
      ]
     },
     "metadata": {},
     "output_type": "display_data"
    }
   ],
   "source": [
    "data_num_corr = data[col_numeric].join(data.chargesLog)\n",
    "corr_matrix = data_num_corr.corr(method='spearman')\n",
    "\n",
    "corr_matrix[abs(corr_matrix) <= TRESHOLD_FOR_CORR] = 0\n",
    "mask = np.triu(np.ones_like(corr_matrix, dtype=bool))\n",
    "cmap = \"viridis\"\n",
    "\n",
    "sns.heatmap(corr_matrix,  mask=mask, linewidths=0.1, vmax=1.0, vmin=-1.0,  square=True, cmap=cmap, \n",
    "            annot=True, fmt=\".1f\")\n"
   ]
  },
  {
   "cell_type": "markdown",
   "id": "236ac46c",
   "metadata": {},
   "source": [
    "Как мы и предполагали по графикам, корреляция слабая, сильнее всего - с признаком age. Но, т.к. признаков не много, мы оставим их все. Плюс ко всему, видим, что корреляция между признаками имеется только между возрастом и индексом массы тела, но, тк она маленькая, исклчать признаки из за нее не станем."
   ]
  },
  {
   "cell_type": "markdown",
   "id": "54109f65",
   "metadata": {},
   "source": [
    "# Feature engineering"
   ]
  },
  {
   "cell_type": "markdown",
   "id": "25c0317e",
   "metadata": {},
   "source": [
    "## Добавление нового признака IdealBmi"
   ]
  },
  {
   "cell_type": "markdown",
   "id": "c9ccdfa4",
   "metadata": {},
   "source": [
    "Располагая информацией, что идеальный индекс массы тела колеблется в интервале от 18.5 до 24.9, введем новую переменную категориальную, которая будет говорить идеальный индекс или нет - IdealBmi"
   ]
  },
  {
   "cell_type": "code",
   "execution_count": 137,
   "id": "5889a708",
   "metadata": {},
   "outputs": [],
   "source": [
    "data['IdealBmi'] = np.where((data.bmi < 24.9) & (data.bmi > 18.5), 1, 0)"
   ]
  },
  {
   "cell_type": "markdown",
   "id": "b5a313e5",
   "metadata": {},
   "source": [
    "Посмотрим на окончательный вид датасета: "
   ]
  },
  {
   "cell_type": "code",
   "execution_count": 138,
   "id": "21f83ccd",
   "metadata": {},
   "outputs": [
    {
     "data": {
      "text/html": [
       "<div>\n",
       "<style scoped>\n",
       "    .dataframe tbody tr th:only-of-type {\n",
       "        vertical-align: middle;\n",
       "    }\n",
       "\n",
       "    .dataframe tbody tr th {\n",
       "        vertical-align: top;\n",
       "    }\n",
       "\n",
       "    .dataframe thead th {\n",
       "        text-align: right;\n",
       "    }\n",
       "</style>\n",
       "<table border=\"1\" class=\"dataframe\">\n",
       "  <thead>\n",
       "    <tr style=\"text-align: right;\">\n",
       "      <th></th>\n",
       "      <th>age</th>\n",
       "      <th>bmi</th>\n",
       "      <th>children</th>\n",
       "      <th>smoker</th>\n",
       "      <th>charges</th>\n",
       "      <th>chargesLog</th>\n",
       "      <th>IdealBmi</th>\n",
       "    </tr>\n",
       "  </thead>\n",
       "  <tbody>\n",
       "    <tr>\n",
       "      <th>0</th>\n",
       "      <td>19</td>\n",
       "      <td>27.900</td>\n",
       "      <td>0</td>\n",
       "      <td>yes</td>\n",
       "      <td>16884.92400</td>\n",
       "      <td>9.734176</td>\n",
       "      <td>0</td>\n",
       "    </tr>\n",
       "    <tr>\n",
       "      <th>1</th>\n",
       "      <td>18</td>\n",
       "      <td>33.770</td>\n",
       "      <td>1</td>\n",
       "      <td>no</td>\n",
       "      <td>1725.55230</td>\n",
       "      <td>7.453302</td>\n",
       "      <td>0</td>\n",
       "    </tr>\n",
       "    <tr>\n",
       "      <th>2</th>\n",
       "      <td>28</td>\n",
       "      <td>33.000</td>\n",
       "      <td>3</td>\n",
       "      <td>no</td>\n",
       "      <td>4449.46200</td>\n",
       "      <td>8.400538</td>\n",
       "      <td>0</td>\n",
       "    </tr>\n",
       "    <tr>\n",
       "      <th>3</th>\n",
       "      <td>33</td>\n",
       "      <td>22.705</td>\n",
       "      <td>0</td>\n",
       "      <td>no</td>\n",
       "      <td>21984.47061</td>\n",
       "      <td>9.998092</td>\n",
       "      <td>1</td>\n",
       "    </tr>\n",
       "    <tr>\n",
       "      <th>4</th>\n",
       "      <td>32</td>\n",
       "      <td>28.880</td>\n",
       "      <td>0</td>\n",
       "      <td>no</td>\n",
       "      <td>3866.85520</td>\n",
       "      <td>8.260197</td>\n",
       "      <td>0</td>\n",
       "    </tr>\n",
       "  </tbody>\n",
       "</table>\n",
       "</div>"
      ],
      "text/plain": [
       "   age     bmi  children smoker      charges  chargesLog  IdealBmi\n",
       "0   19  27.900         0    yes  16884.92400    9.734176         0\n",
       "1   18  33.770         1     no   1725.55230    7.453302         0\n",
       "2   28  33.000         3     no   4449.46200    8.400538         0\n",
       "3   33  22.705         0     no  21984.47061    9.998092         1\n",
       "4   32  28.880         0     no   3866.85520    8.260197         0"
      ]
     },
     "execution_count": 138,
     "metadata": {},
     "output_type": "execute_result"
    }
   ],
   "source": [
    "#data=data.drop(['IdeakBmi'], axis=1)\n",
    "data.head()\n"
   ]
  },
  {
   "cell_type": "markdown",
   "id": "2efe8816",
   "metadata": {},
   "source": [
    "## Преобразование категориальных признаков"
   ]
  },
  {
   "cell_type": "markdown",
   "id": "3703eaf7",
   "metadata": {},
   "source": [
    "Преобразуем категориальный признак sex в численный, где 0 - это не курит (no), 1 - иначе"
   ]
  },
  {
   "cell_type": "code",
   "execution_count": 141,
   "id": "e50e5dc2",
   "metadata": {},
   "outputs": [],
   "source": [
    "data['smoker'].replace({'no':0, 'yes':1}, inplace=True)"
   ]
  },
  {
   "cell_type": "code",
   "execution_count": 142,
   "id": "83b71084",
   "metadata": {},
   "outputs": [
    {
     "data": {
      "text/html": [
       "<div>\n",
       "<style scoped>\n",
       "    .dataframe tbody tr th:only-of-type {\n",
       "        vertical-align: middle;\n",
       "    }\n",
       "\n",
       "    .dataframe tbody tr th {\n",
       "        vertical-align: top;\n",
       "    }\n",
       "\n",
       "    .dataframe thead th {\n",
       "        text-align: right;\n",
       "    }\n",
       "</style>\n",
       "<table border=\"1\" class=\"dataframe\">\n",
       "  <thead>\n",
       "    <tr style=\"text-align: right;\">\n",
       "      <th></th>\n",
       "      <th>age</th>\n",
       "      <th>bmi</th>\n",
       "      <th>children</th>\n",
       "      <th>smoker</th>\n",
       "      <th>charges</th>\n",
       "      <th>chargesLog</th>\n",
       "      <th>IdealBmi</th>\n",
       "    </tr>\n",
       "  </thead>\n",
       "  <tbody>\n",
       "    <tr>\n",
       "      <th>0</th>\n",
       "      <td>19</td>\n",
       "      <td>27.900</td>\n",
       "      <td>0</td>\n",
       "      <td>1</td>\n",
       "      <td>16884.92400</td>\n",
       "      <td>9.734176</td>\n",
       "      <td>0</td>\n",
       "    </tr>\n",
       "    <tr>\n",
       "      <th>1</th>\n",
       "      <td>18</td>\n",
       "      <td>33.770</td>\n",
       "      <td>1</td>\n",
       "      <td>0</td>\n",
       "      <td>1725.55230</td>\n",
       "      <td>7.453302</td>\n",
       "      <td>0</td>\n",
       "    </tr>\n",
       "    <tr>\n",
       "      <th>2</th>\n",
       "      <td>28</td>\n",
       "      <td>33.000</td>\n",
       "      <td>3</td>\n",
       "      <td>0</td>\n",
       "      <td>4449.46200</td>\n",
       "      <td>8.400538</td>\n",
       "      <td>0</td>\n",
       "    </tr>\n",
       "    <tr>\n",
       "      <th>3</th>\n",
       "      <td>33</td>\n",
       "      <td>22.705</td>\n",
       "      <td>0</td>\n",
       "      <td>0</td>\n",
       "      <td>21984.47061</td>\n",
       "      <td>9.998092</td>\n",
       "      <td>1</td>\n",
       "    </tr>\n",
       "    <tr>\n",
       "      <th>4</th>\n",
       "      <td>32</td>\n",
       "      <td>28.880</td>\n",
       "      <td>0</td>\n",
       "      <td>0</td>\n",
       "      <td>3866.85520</td>\n",
       "      <td>8.260197</td>\n",
       "      <td>0</td>\n",
       "    </tr>\n",
       "  </tbody>\n",
       "</table>\n",
       "</div>"
      ],
      "text/plain": [
       "   age     bmi  children  smoker      charges  chargesLog  IdealBmi\n",
       "0   19  27.900         0       1  16884.92400    9.734176         0\n",
       "1   18  33.770         1       0   1725.55230    7.453302         0\n",
       "2   28  33.000         3       0   4449.46200    8.400538         0\n",
       "3   33  22.705         0       0  21984.47061    9.998092         1\n",
       "4   32  28.880         0       0   3866.85520    8.260197         0"
      ]
     },
     "execution_count": 142,
     "metadata": {},
     "output_type": "execute_result"
    }
   ],
   "source": [
    "data.head()"
   ]
  },
  {
   "cell_type": "markdown",
   "id": "901c6184",
   "metadata": {},
   "source": [
    "# Подготовка данных к моделированию"
   ]
  },
  {
   "cell_type": "markdown",
   "id": "0683a990",
   "metadata": {},
   "source": [
    "## Разделение выборки на признаки и целевую переменную"
   ]
  },
  {
   "cell_type": "code",
   "execution_count": 164,
   "id": "c53b776f",
   "metadata": {},
   "outputs": [],
   "source": [
    "X = data.drop(columns=['charges', 'chargesLog'], axis=1)\n",
    "y = data.chargesLog"
   ]
  },
  {
   "cell_type": "code",
   "execution_count": 165,
   "id": "7d1544a6",
   "metadata": {},
   "outputs": [
    {
     "name": "stdout",
     "output_type": "stream",
     "text": [
      "количество пропущенных значений в выборке: 0\n"
     ]
    }
   ],
   "source": [
    "print('количество пропущенных значений в выборке:', X.isna().sum().sum())\n"
   ]
  },
  {
   "cell_type": "markdown",
   "id": "609963b2",
   "metadata": {},
   "source": [
    "## Нормализация числовых признаков"
   ]
  },
  {
   "cell_type": "code",
   "execution_count": 166,
   "id": "6ebc1537",
   "metadata": {},
   "outputs": [
    {
     "name": "stdout",
     "output_type": "stream",
     "text": [
      "['age' 'bmi' 'children' 'smoker' 'IdealBmi']\n"
     ]
    }
   ],
   "source": [
    "#отбираем числовые признаки\n",
    "X_numeric = X.select_dtypes(include=[np.number])\n",
    "numeric_cols = X_numeric.columns.values\n",
    "print(numeric_cols)"
   ]
  },
  {
   "cell_type": "code",
   "execution_count": 167,
   "id": "449a28c1",
   "metadata": {},
   "outputs": [
    {
     "data": {
      "text/html": [
       "<div>\n",
       "<style scoped>\n",
       "    .dataframe tbody tr th:only-of-type {\n",
       "        vertical-align: middle;\n",
       "    }\n",
       "\n",
       "    .dataframe tbody tr th {\n",
       "        vertical-align: top;\n",
       "    }\n",
       "\n",
       "    .dataframe thead th {\n",
       "        text-align: right;\n",
       "    }\n",
       "</style>\n",
       "<table border=\"1\" class=\"dataframe\">\n",
       "  <thead>\n",
       "    <tr style=\"text-align: right;\">\n",
       "      <th></th>\n",
       "      <th>age</th>\n",
       "      <th>bmi</th>\n",
       "      <th>children</th>\n",
       "      <th>smoker</th>\n",
       "      <th>IdealBmi</th>\n",
       "    </tr>\n",
       "  </thead>\n",
       "  <tbody>\n",
       "    <tr>\n",
       "      <th>0</th>\n",
       "      <td>19</td>\n",
       "      <td>27.900</td>\n",
       "      <td>0</td>\n",
       "      <td>1</td>\n",
       "      <td>0</td>\n",
       "    </tr>\n",
       "    <tr>\n",
       "      <th>1</th>\n",
       "      <td>18</td>\n",
       "      <td>33.770</td>\n",
       "      <td>1</td>\n",
       "      <td>0</td>\n",
       "      <td>0</td>\n",
       "    </tr>\n",
       "    <tr>\n",
       "      <th>2</th>\n",
       "      <td>28</td>\n",
       "      <td>33.000</td>\n",
       "      <td>3</td>\n",
       "      <td>0</td>\n",
       "      <td>0</td>\n",
       "    </tr>\n",
       "    <tr>\n",
       "      <th>3</th>\n",
       "      <td>33</td>\n",
       "      <td>22.705</td>\n",
       "      <td>0</td>\n",
       "      <td>0</td>\n",
       "      <td>1</td>\n",
       "    </tr>\n",
       "    <tr>\n",
       "      <th>4</th>\n",
       "      <td>32</td>\n",
       "      <td>28.880</td>\n",
       "      <td>0</td>\n",
       "      <td>0</td>\n",
       "      <td>0</td>\n",
       "    </tr>\n",
       "  </tbody>\n",
       "</table>\n",
       "</div>"
      ],
      "text/plain": [
       "   age     bmi  children  smoker  IdealBmi\n",
       "0   19  27.900         0       1         0\n",
       "1   18  33.770         1       0         0\n",
       "2   28  33.000         3       0         0\n",
       "3   33  22.705         0       0         1\n",
       "4   32  28.880         0       0         0"
      ]
     },
     "execution_count": 167,
     "metadata": {},
     "output_type": "execute_result"
    }
   ],
   "source": [
    "X.head()"
   ]
  },
  {
   "cell_type": "code",
   "execution_count": 169,
   "id": "a60dd463",
   "metadata": {},
   "outputs": [
    {
     "data": {
      "text/html": [
       "<div>\n",
       "<style scoped>\n",
       "    .dataframe tbody tr th:only-of-type {\n",
       "        vertical-align: middle;\n",
       "    }\n",
       "\n",
       "    .dataframe tbody tr th {\n",
       "        vertical-align: top;\n",
       "    }\n",
       "\n",
       "    .dataframe thead th {\n",
       "        text-align: right;\n",
       "    }\n",
       "</style>\n",
       "<table border=\"1\" class=\"dataframe\">\n",
       "  <thead>\n",
       "    <tr style=\"text-align: right;\">\n",
       "      <th></th>\n",
       "      <th>age</th>\n",
       "      <th>bmi</th>\n",
       "      <th>children</th>\n",
       "      <th>smoker</th>\n",
       "      <th>IdealBmi</th>\n",
       "    </tr>\n",
       "  </thead>\n",
       "  <tbody>\n",
       "    <tr>\n",
       "      <th>0</th>\n",
       "      <td>0.021739</td>\n",
       "      <td>0.321227</td>\n",
       "      <td>0.0</td>\n",
       "      <td>1.0</td>\n",
       "      <td>0.0</td>\n",
       "    </tr>\n",
       "    <tr>\n",
       "      <th>1</th>\n",
       "      <td>0.000000</td>\n",
       "      <td>0.479150</td>\n",
       "      <td>0.2</td>\n",
       "      <td>0.0</td>\n",
       "      <td>0.0</td>\n",
       "    </tr>\n",
       "    <tr>\n",
       "      <th>2</th>\n",
       "      <td>0.217391</td>\n",
       "      <td>0.458434</td>\n",
       "      <td>0.6</td>\n",
       "      <td>0.0</td>\n",
       "      <td>0.0</td>\n",
       "    </tr>\n",
       "    <tr>\n",
       "      <th>3</th>\n",
       "      <td>0.326087</td>\n",
       "      <td>0.181464</td>\n",
       "      <td>0.0</td>\n",
       "      <td>0.0</td>\n",
       "      <td>1.0</td>\n",
       "    </tr>\n",
       "    <tr>\n",
       "      <th>4</th>\n",
       "      <td>0.304348</td>\n",
       "      <td>0.347592</td>\n",
       "      <td>0.0</td>\n",
       "      <td>0.0</td>\n",
       "      <td>0.0</td>\n",
       "    </tr>\n",
       "  </tbody>\n",
       "</table>\n",
       "</div>"
      ],
      "text/plain": [
       "        age       bmi  children  smoker  IdealBmi\n",
       "0  0.021739  0.321227       0.0     1.0       0.0\n",
       "1  0.000000  0.479150       0.2     0.0       0.0\n",
       "2  0.217391  0.458434       0.6     0.0       0.0\n",
       "3  0.326087  0.181464       0.0     0.0       1.0\n",
       "4  0.304348  0.347592       0.0     0.0       0.0"
      ]
     },
     "execution_count": 169,
     "metadata": {},
     "output_type": "execute_result"
    }
   ],
   "source": [
    "ns = MinMaxScaler()\n",
    "X[numeric_cols] = ns.fit_transform(X[numeric_cols])\n",
    "X.head()"
   ]
  },
  {
   "cell_type": "markdown",
   "id": "2473d09f",
   "metadata": {},
   "source": [
    "# Моделирование"
   ]
  },
  {
   "cell_type": "markdown",
   "id": "0381068e",
   "metadata": {},
   "source": [
    "## Сравнение простых моделей с параметрами по умолчанию для выбора наилучшей модели"
   ]
  },
  {
   "cell_type": "markdown",
   "id": "62811272",
   "metadata": {},
   "source": [
    "Будем рассматривать несколько моделей:\n",
    "+ Ридж регрессия\n",
    "* Лассо регрессия\n",
    "* ElasticNet\n",
    "* SVR\n",
    "- Случайный лес"
   ]
  },
  {
   "cell_type": "code",
   "execution_count": 170,
   "id": "ca541a0e",
   "metadata": {},
   "outputs": [],
   "source": [
    "X_train, X_test, y_train, y_test = train_test_split(X,\n",
    "                                                    y,\n",
    "                                                    test_size=SPLIT_TEST_SIZE,\n",
    "                                                    random_state=RANDOM_STATE)"
   ]
  },
  {
   "cell_type": "code",
   "execution_count": 176,
   "id": "77d17e95",
   "metadata": {},
   "outputs": [
    {
     "name": "stdout",
     "output_type": "stream",
     "text": [
      "model: Ridge()\n",
      "RMSE: 0.434\n",
      "R²: 0.768\n",
      "------------------------------ \n",
      "\n",
      "model: Lasso(alpha=0.001)\n",
      "RMSE: 0.435\n",
      "R²: 0.767\n",
      "------------------------------ \n",
      "\n",
      "model: ElasticNet(alpha=0.001)\n",
      "RMSE: 0.434\n",
      "R²: 0.768\n",
      "------------------------------ \n",
      "\n",
      "model: SVR()\n",
      "RMSE: 0.357\n",
      "R²: 0.843\n",
      "------------------------------ \n",
      "\n",
      "model: RandomForestRegressor()\n",
      "RMSE: 0.407\n",
      "R²: 0.796\n",
      "------------------------------ \n",
      "\n"
     ]
    }
   ],
   "source": [
    "models = [Ridge(), Lasso(alpha=0.001), ElasticNet(alpha=0.001), SVR(), RandomForestRegressor()]\n",
    "scores = dict()\n",
    "for m in models:\n",
    "    m.fit(X_train, y_train)\n",
    "    y_pred = m.predict(X_test)\n",
    "    \n",
    "    \n",
    "    print(f'model: {str(m)}')\n",
    "    print(f'RMSE: {round(np.sqrt(mean_squared_error(y_test, y_pred)), 3)}')\n",
    "    print(f'R²: {round(r2_score(y_test, y_pred), 3)}')\n",
    "    print('-'*30, '\\n')"
   ]
  },
  {
   "cell_type": "markdown",
   "id": "77f918d1",
   "metadata": {},
   "source": [
    "Лучше всего себя покал метод опорных векторов, поэтому далее сосредоточимся на нем."
   ]
  },
  {
   "cell_type": "markdown",
   "id": "5331f29e",
   "metadata": {},
   "source": [
    "##  Подбор параметров и предсказание с ипользованием SVR"
   ]
  },
  {
   "cell_type": "markdown",
   "id": "ee17c8ed",
   "metadata": {},
   "source": [
    "parameters_grid = {\n",
    "    'C': [0.01, 0.1, 1, 10, 100],\n",
    "    'gamma':[0.01, 0.1, 1, 10, 100]\n",
    "}"
   ]
  },
  {
   "cell_type": "code",
   "execution_count": 185,
   "id": "7a3d997d",
   "metadata": {},
   "outputs": [
    {
     "data": {
      "text/plain": [
       "GridSearchCV(cv=5, estimator=SVR(), n_jobs=-1,\n",
       "             param_grid={'C': [0.01, 0.1, 1, 10, 100],\n",
       "                         'gamma': [0.01, 0.1, 1, 10, 100]})"
      ]
     },
     "execution_count": 185,
     "metadata": {},
     "output_type": "execute_result"
    }
   ],
   "source": [
    "model = SVR()\n",
    "\n",
    "svr_cv = GridSearchCV(model,\n",
    "                       parameters_grid,\n",
    "                       cv=NUM_SPLIT_FOR_GRID,\n",
    "                       n_jobs=-1)\n",
    "\n",
    "svr_cv.fit(X_train, y_train)"
   ]
  },
  {
   "cell_type": "code",
   "execution_count": 182,
   "id": "00e33fce",
   "metadata": {},
   "outputs": [
    {
     "data": {
      "text/plain": [
       "dict_keys(['C', 'cache_size', 'coef0', 'degree', 'epsilon', 'gamma', 'kernel', 'max_iter', 'shrinking', 'tol', 'verbose'])"
      ]
     },
     "execution_count": 182,
     "metadata": {},
     "output_type": "execute_result"
    }
   ],
   "source": [
    "SVR().get_params().keys()"
   ]
  },
  {
   "cell_type": "code",
   "execution_count": 186,
   "id": "23d2005a",
   "metadata": {},
   "outputs": [
    {
     "name": "stdout",
     "output_type": "stream",
     "text": [
      "Лучшие параметры: {'C': 10, 'gamma': 1}\n",
      "Лучший R² (train): 0.8214076004286891\n"
     ]
    }
   ],
   "source": [
    "print(f\"Лучшие параметры: {svr_cv.best_params_}\")\n",
    "print(f\"Лучший R² (train): {svr_cv.best_score_}\")"
   ]
  },
  {
   "cell_type": "markdown",
   "id": "03c318f4",
   "metadata": {},
   "source": [
    "Попробуем рассмотреть другие значения параметров, располагая их текущими лучшими значениями"
   ]
  },
  {
   "cell_type": "code",
   "execution_count": 188,
   "id": "58c821c9",
   "metadata": {},
   "outputs": [],
   "source": [
    "parameters_grid = {\n",
    "    'C': [ 6, 10, 15, 50],\n",
    "    'gamma':[0.6, 1, 5]\n",
    "}"
   ]
  },
  {
   "cell_type": "code",
   "execution_count": 189,
   "id": "d15cdb5e",
   "metadata": {},
   "outputs": [
    {
     "data": {
      "text/plain": [
       "GridSearchCV(cv=5, estimator=SVR(), n_jobs=-1,\n",
       "             param_grid={'C': [6, 10, 15, 50], 'gamma': [0.6, 1, 5]})"
      ]
     },
     "execution_count": 189,
     "metadata": {},
     "output_type": "execute_result"
    }
   ],
   "source": [
    "model = SVR()\n",
    "\n",
    "svr_cv = GridSearchCV(model,\n",
    "                       parameters_grid,\n",
    "                       cv=NUM_SPLIT_FOR_GRID,\n",
    "                       n_jobs=-1)\n",
    "\n",
    "svr_cv.fit(X_train, y_train)"
   ]
  },
  {
   "cell_type": "code",
   "execution_count": 190,
   "id": "e2a0ee9b",
   "metadata": {},
   "outputs": [
    {
     "name": "stdout",
     "output_type": "stream",
     "text": [
      "Лучшие параметры: {'C': 50, 'gamma': 0.6}\n",
      "Лучший R² (train): 0.8216036365101373\n"
     ]
    }
   ],
   "source": [
    "print(f\"Лучшие параметры: {svr_cv.best_params_}\")\n",
    "print(f\"Лучший R² (train): {svr_cv.best_score_}\")"
   ]
  },
  {
   "cell_type": "markdown",
   "id": "af75a5b8",
   "metadata": {},
   "source": [
    "Разница не критичная с предыдущими значениями, поэтому остановимся на значениях C = 50 и gamma = 0.6"
   ]
  },
  {
   "cell_type": "markdown",
   "id": "27d26175",
   "metadata": {},
   "source": [
    "## Прогноз"
   ]
  },
  {
   "cell_type": "code",
   "execution_count": 193,
   "id": "d1d1d5f7",
   "metadata": {},
   "outputs": [
    {
     "name": "stdout",
     "output_type": "stream",
     "text": [
      "- SVR\n",
      "RMSE: 0.358\n",
      "R²: 0.842\n"
     ]
    }
   ],
   "source": [
    "svr_mod = SVR(gamma=svr_cv.best_params_[\"gamma\"], C=svr_cv.best_params_[\"C\"])\n",
    "\n",
    "# Fit the model on train set\n",
    "svr_mod.fit(X_train, y_train)\n",
    "\n",
    "# Predict on test set\n",
    "y_pred = svr_mod.predict(X_test)\n",
    "\n",
    "print(f\"- {svr_mod.__class__.__name__}\")\n",
    "print(f'RMSE: {round(np.sqrt(mean_squared_error(y_test.values, y_pred)), 3)}')\n",
    "print(f'R²: {round(r2_score(y_test.values, y_pred), 3)}')"
   ]
  },
  {
   "cell_type": "code",
   "execution_count": 200,
   "id": "ad1934ae",
   "metadata": {},
   "outputs": [
    {
     "data": {
      "image/png": "[encoded data removed]",
      "text/plain": [
       "<Figure size 432x288 with 1 Axes>"
      ]
     },
     "metadata": {},
     "output_type": "display_data"
    }
   ],
   "source": [
    "actual_price = np.exp(y_test.values)\n",
    "predicted_price = np.exp(y_pred)\n",
    "\n",
    "plt.figure()\n",
    "plt.title(\"Настоящие и предсказанные цены\\n (SVR)\", fontsize=20)\n",
    "plt.scatter(actual_price, predicted_price,\n",
    "            color=COLOR_PLOT, marker=\"o\", facecolors=\"none\")\n",
    "plt.plot([0, 65000], [0, 65000], \"darkorange\", lw=2)\n",
    "#plt.xlim(0, 500000)\n",
    "#plt.ylim(0, 500000)\n",
    "plt.xlabel(\"\\nНастоящая цена\", fontsize=16)\n",
    "plt.ylabel(\"Предсказанная цена\\n\", fontsize=16)\n",
    "plt.show()"
   ]
  },
  {
   "cell_type": "code",
   "execution_count": null,
   "id": "cee87db3",
   "metadata": {},
   "outputs": [],
   "source": []
  }
 ],
 "metadata": {
  "kernelspec": {
   "display_name": "Python 3 (ipykernel)",
   "language": "python",
   "name": "python3"
  },
  "language_info": {
   "codemirror_mode": {
    "name": "ipython",
    "version": 3
   },
   "file_extension": ".py",
   "mimetype": "text/x-python",
   "name": "python",
   "nbconvert_exporter": "python",
   "pygments_lexer": "ipython3",
   "version": "3.9.7"
  },
  "toc": {
   "base_numbering": 1,
   "nav_menu": {},
   "number_sections": true,
   "sideBar": true,
   "skip_h1_title": false,
   "title_cell": "Table of Contents",
   "title_sidebar": "Contents",
   "toc_cell": false,
   "toc_position": {},
   "toc_section_display": true,
   "toc_window_display": true
  }
 },
 "nbformat": 4,
 "nbformat_minor": 5
}
